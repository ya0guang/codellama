{
 "cells": [
  {
   "cell_type": "code",
   "execution_count": 3,
   "metadata": {},
   "outputs": [
    {
     "name": "stdout",
     "output_type": "stream",
     "text": [
      "[3532, 14816, 29903, 6778]\n"
     ]
    }
   ],
   "source": [
    "from llama import Tokenizer\n",
    "from llama.generation import infilling_prompt_tokens\n",
    "system = \"<<SYS>>\"\n",
    "\n",
    "tokenizer = Tokenizer(\"/data/LLM4Sec/codellama/CodeLlama-13b/tokenizer.model\")\n",
    "\n",
    "tokens = tokenizer.encode(system, bos=False, eos=False)\n",
    "\n",
    "print(tokens)\n",
    "\n"
   ]
  },
  {
   "cell_type": "code",
   "execution_count": 4,
   "metadata": {},
   "outputs": [],
   "source": [
    "prompt = \"\"\"\n",
    "def quote_url(url_text):\n",
    "    (scheme, netloc, path, params, query, fragment) = six.moves.urllib.parse.urlparse(\n",
    "        url_text\n",
    "    )\n",
    "    # netloc_quoted = quote(netloc)\n",
    "    path_quoted = quote(path)\n",
    "    params_quoted = quote(<FILL_ME>)\n",
    "    query_quoted = quote_plus(query)\n",
    "    fragment_quoted = quote(fragment)\n",
    "\n",
    "    url_quoted = six.moves.urllib.parse.urlunparse(\n",
    "        (scheme, netloc, path_quoted, params_quoted, query_quoted, fragment_quoted)\n",
    "    )\n",
    "\n",
    "    return url_quoted\n",
    "\"\"\"\n",
    "fill_token = \"<FILL_ME>\"\n",
    "pre = prompt.split(fill_token)[0]\n",
    "suf = prompt.split(fill_token)[1]\n",
    "\n",
    "result = infilling_prompt_tokens(tokenizer, pre, suf)"
   ]
  },
  {
   "cell_type": "code",
   "execution_count": 9,
   "metadata": {},
   "outputs": [
    {
     "data": {
      "text/plain": [
       "176"
      ]
     },
     "execution_count": 9,
     "metadata": {},
     "output_type": "execute_result"
    }
   ],
   "source": [
    "len(result)"
   ]
  },
  {
   "cell_type": "code",
   "execution_count": 7,
   "metadata": {},
   "outputs": [
    {
     "data": {
      "text/plain": [
       "'<PRE> \\ndef quote_url(url_text):\\n    (scheme, netloc, path, params, query, fragment) = six.moves.urllib.parse.urlparse(\\n        url_text\\n    )\\n    # netloc_quoted = quote(netloc)\\n    path_quoted = quote(path)\\n    params_quoted = quote( <SUF>)\\n    query_quoted = quote_plus(query)\\n    fragment_quoted = quote(fragment)\\n\\n    url_quoted = six.moves.urllib.parse.urlunparse(\\n        (scheme, netloc, path_quoted, params_quoted, query_quoted, fragment_quoted)\\n    )\\n\\n    return url_quoted\\n <MID>'"
      ]
     },
     "execution_count": 7,
     "metadata": {},
     "output_type": "execute_result"
    }
   ],
   "source": [
    "tokenizer.decode(result)"
   ]
  },
  {
   "cell_type": "code",
   "execution_count": null,
   "metadata": {},
   "outputs": [],
   "source": []
  }
 ],
 "metadata": {
  "kernelspec": {
   "display_name": "llama",
   "language": "python",
   "name": "python3"
  },
  "language_info": {
   "codemirror_mode": {
    "name": "ipython",
    "version": 3
   },
   "file_extension": ".py",
   "mimetype": "text/x-python",
   "name": "python",
   "nbconvert_exporter": "python",
   "pygments_lexer": "ipython3",
   "version": "3.12.1"
  }
 },
 "nbformat": 4,
 "nbformat_minor": 2
}
